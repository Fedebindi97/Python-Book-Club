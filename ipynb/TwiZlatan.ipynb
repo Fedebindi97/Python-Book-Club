{
 "cells": [
  {
   "attachments": {},
   "cell_type": "markdown",
   "metadata": {},
   "source": [
    "# TwiZlatan"
   ]
  },
  {
   "attachments": {},
   "cell_type": "markdown",
   "metadata": {},
   "source": [
    "For today's lesson, we're gonna learn something more practical: Twitter scraping with the [Twython](https://twython.readthedocs.io/en/latest/usage/install.html) package.\n",
    "\n",
    "The topic will be, as some of you already guessed from the name of the notebook, this guy:"
   ]
  },
  {
   "attachments": {},
   "cell_type": "markdown",
   "metadata": {},
   "source": [
    "![image](images/zlatan.PNG)"
   ]
  },
  {
   "attachments": {},
   "cell_type": "markdown",
   "metadata": {},
   "source": [
    "(If you don't know who he is, which is highly problematic, here is his [Wikipedia page](https://en.wikipedia.org/wiki/Zlatan_Ibrahimovi%C4%87))\n",
    "\n",
    "We're going to grab Tweets relating to him at different points in time and in different locations, to get an idea of how the public perception of ~~God~~ this guy has changed over time across the world."
   ]
  },
  {
   "attachments": {},
   "cell_type": "markdown",
   "metadata": {},
   "source": [
    "## Lesson plan\n",
    "\n",
    "1. Grabbing some tweets with Twython\n",
    "2. Tweepy\n",
    "3. Snscrape\n",
    "4. Sentiment analysis"
   ]
  },
  {
   "attachments": {},
   "cell_type": "markdown",
   "metadata": {},
   "source": [
    "Let's start by importing the required packages:"
   ]
  },
  {
   "cell_type": "code",
   "execution_count": 1,
   "metadata": {},
   "outputs": [],
   "source": [
    "from twython import Twython, TwythonError\n",
    "import tweepy\n",
    "import configparser\n",
    "import numpy as np\n",
    "import pandas as pd\n",
    "import snscrape.modules.twitter as sntwitter\n",
    "from textblob import TextBlob\n",
    "import nltk\n",
    "nltk.download('vader_lexicon')"
   ]
  },
  {
   "attachments": {},
   "cell_type": "markdown",
   "metadata": {},
   "source": [
    "Then, you need to generate an application to connect to the Twitter API: go to [this website](https://apps.twitter.com), generate an application, and store its credentials in a safe location, preferrably an .ini file. You will be required to apply for a Twitter Developer account, and to apply for Elevated access."
   ]
  },
  {
   "cell_type": "code",
   "execution_count": 2,
   "metadata": {},
   "outputs": [],
   "source": [
    "config = configparser.ConfigParser()\n",
    "config.read(r'H:\\credentials\\config.ini') # Your .ini file with your credentials\n",
    "\n",
    "api_key = config['twitter']['api_key']\n",
    "api_key_secret = config['twitter']['api_key_secret']\n",
    "bearer_token = config['twitter']['bearer_token'] #we need to escape the \"%\" sign with another \"%\" sign in the .ini file\n",
    "access_token = config['twitter']['access_token']\n",
    "access_token_secret = config['twitter']['access_token_secret']"
   ]
  },
  {
   "attachments": {},
   "cell_type": "markdown",
   "metadata": {},
   "source": [
    "### 1. Grabbing some tweets with Twython"
   ]
  },
  {
   "attachments": {},
   "cell_type": "markdown",
   "metadata": {},
   "source": [
    "We create a connection and perform the search:"
   ]
  },
  {
   "cell_type": "code",
   "execution_count": 27,
   "metadata": {},
   "outputs": [],
   "source": [
    "connection = Twython(\n",
    "    api_key,\n",
    "    api_key_secret\n",
    ")"
   ]
  },
  {
   "cell_type": "code",
   "execution_count": 28,
   "metadata": {},
   "outputs": [],
   "source": [
    "results = connection.search(q='#ibrahimovic',count=10)"
   ]
  },
  {
   "attachments": {},
   "cell_type": "markdown",
   "metadata": {},
   "source": [
    "`reults` is a dictionary of dictionaries. The actual tweets are stored under the key `'statuses'`, which yields another dictionary; the key `'text'` gives the text of the tweets."
   ]
  },
  {
   "cell_type": "code",
   "execution_count": 29,
   "metadata": {},
   "outputs": [
    {
     "name": "stdout",
     "output_type": "stream",
     "text": [
      "\n",
      "\n",
      "Tweet1\n",
      "RT @ViVA__SPORT: مترجم || \n",
      "\n",
      "- باتو ييروي قصة اللحظه التي كاد أن يقتل فيها ابراهيموفيتش من الامريكي اونييو .\n",
      "\n",
      "#Ibrahimovic #onyewu https://t…\n",
      "\n",
      "\n",
      "Tweet2\n",
      "RT @yt_GBH2: Amazing Goals Compilation in eFootball 2023 🎮⚽ | Christmas Special 🎄🎅\n",
      "\n",
      "#efootball2023 #music #konami #football #comp #highligh…\n",
      "\n",
      "\n",
      "Tweet3\n",
      "RT @FutebolVerdad: Pena de quem não viveu isso...\n",
      "Olhem o nível desses times.\n",
      "\n",
      "#derbydellamadonnina #calcio #acmilan #Internazionale #ronal…\n",
      "\n",
      "\n",
      "Tweet4\n",
      "Sono uno dei pochi a cui #StanotteAMilano non è piaciuto.\n",
      "Mi piace #Milano, apprezzo #albertoangela e le sue trasmi… https://t.co/waeKbG3KHR\n",
      "\n",
      "\n",
      "Tweet5\n",
      "@Encu5Futbol 🇪🇸Real Madrid: Luka #Modric\n",
      "🇪🇸Atlético Madrid: Nahuel #Molinas\n",
      "🇩🇪Bayern: Salió #Mane\n",
      "🏴󠁧󠁢󠁥󠁮󠁧󠁿Chelsea:… https://t.co/BHrIYxWH7u\n",
      "\n",
      "\n",
      "Tweet6\n",
      "RT @casamilanisti: Il 27 dicembre 2019 il Milan annunciava il ritorno di #Ibrahimovic.\n",
      "\n",
      "Il resto è STORIA 🔴⚫️ https://t.co/1uWivLZsPU\n",
      "\n",
      "\n",
      "Tweet7\n",
      "Pena de quem não viveu isso...\n",
      "Olhem o nível desses times.\n",
      "\n",
      "#derbydellamadonnina #calcio #acmilan #Internazionale… https://t.co/t4ZXorHRaq\n",
      "\n",
      "\n",
      "Tweet8\n",
      "RT @jakub_balicki1: 27.12.2019 - Zlatan Ibrahimović wraca do Milanu\n",
      "\n",
      "#SempreMilan #Ibrahimovic https://t.co/TCOoSz3Zgc\n",
      "\n",
      "\n",
      "Tweet9\n",
      "RT @tuttosport: \"Quelli con gli occhi azzurri erano sempre scelti prima di me al campo di Malmoe. Mi sentivo diverso, mi facevano sentire d…\n",
      "\n",
      "\n",
      "Tweet10\n",
      "🥇E il Pallone d'Oro svedese va a Dejan #Kulusevski: battuto Zlatan #Ibrahimovic per record di età 🔥🇸🇪\n",
      "\n",
      "🤔La… https://t.co/NbDyAOeoEt\n"
     ]
    }
   ],
   "source": [
    "for i,tweet in enumerate(results['statuses']):\n",
    "    print('\\n')\n",
    "    print(f'Tweet{i+1}')\n",
    "    print(tweet['text'])"
   ]
  },
  {
   "attachments": {},
   "cell_type": "markdown",
   "metadata": {},
   "source": [
    "### 2. Get the tweets of the man himself with Tweepy"
   ]
  },
  {
   "attachments": {},
   "cell_type": "markdown",
   "metadata": {},
   "source": [
    "We will focus on the Client class, which connects to the 2.0 version of the Twitter API."
   ]
  },
  {
   "attachments": {},
   "cell_type": "markdown",
   "metadata": {},
   "source": [
    "Let's authenticate:"
   ]
  },
  {
   "cell_type": "code",
   "execution_count": 63,
   "metadata": {},
   "outputs": [],
   "source": [
    "client = tweepy.Client(bearer_token=bearer_token) #1.0 write and read, 2.0 read only"
   ]
  },
  {
   "attachments": {},
   "cell_type": "markdown",
   "metadata": {},
   "source": [
    "This time, we will exploit the API's query functionalities a little bit more in depth. In particular:\n",
    "* We will search for tweets from Ibra's official account only\n",
    "* We will exclude retweets\n",
    "* We'll grab tweets in English only"
   ]
  },
  {
   "cell_type": "code",
   "execution_count": 73,
   "metadata": {},
   "outputs": [],
   "source": [
    "query = 'from:Ibra_official -is:retweet lang:en'"
   ]
  },
  {
   "cell_type": "code",
   "execution_count": 74,
   "metadata": {},
   "outputs": [],
   "source": [
    "tweets = client.search_recent_tweets(query=query,max_results=10)"
   ]
  },
  {
   "cell_type": "code",
   "execution_count": 75,
   "metadata": {},
   "outputs": [
    {
     "name": "stdout",
     "output_type": "stream",
     "text": [
      "\n",
      "**Tweet 1**\n",
      " Gotham City https://t.co/p9W9rVpff8\n",
      "\n",
      "**Tweet 2**\n",
      " Merry ChristmaZ to you and your wifes! Ciao https://t.co/xM3gIjrEZr\n",
      "\n",
      "**Tweet 3**\n",
      " Thank you for an unforgettable visit and a World Cup 2022 Qatar 🇶🇦 final that will remain in the history books forever https://t.co/daGdBz1wGM\n"
     ]
    }
   ],
   "source": [
    "for i,tweet in enumerate(tweets.data):\n",
    "    print(f'\\n**Tweet {i+1}**\\n',tweet.text)\n"
   ]
  },
  {
   "attachments": {},
   "cell_type": "markdown",
   "metadata": {},
   "source": [
    "Notice that, even with the Elevated access we requested, we can only grab tweets from the last 7 days, and in any case only up to 100 tweets! The `paginator` object can help in this respect. Let's also grab some more metainformation about each tweet, and let's use logical operators within the query:"
   ]
  },
  {
   "cell_type": "code",
   "execution_count": 83,
   "metadata": {},
   "outputs": [
    {
     "name": "stdout",
     "output_type": "stream",
     "text": [
      "\n",
      "**Tweet 1**\n",
      " RT @yt_GBH2: Amazing Goals Compilation in eFootball 2023 🎮⚽ | Christmas Special 🎄🎅\n",
      "\n",
      "#efootball2023 #music #konami #football #comp #highligh…\n",
      "2022-12-28 12:54:05+00:00\n",
      "\n",
      "**Tweet 2**\n",
      " Waiting for AC Milan #milan #milano #acmilan #sansiro #rossoneri #redblack #devil #puma #soccer #championsleague #uefa #seriea #pioliisonfire #pioli #weareacmilan #football #shop #storeonline #ibrahimovic #ibra #zlatan #zlatanibrahimovic #leao #maldini #tbt #curvasud https://t.co/2XypDwbOHI\n",
      "2022-12-27 17:49:48+00:00\n",
      "\n",
      "**Tweet 3**\n",
      " RT @yt_GBH2: Amazing Goals Compilation in eFootball 2023 🎮⚽ | Christmas Special 🎄🎅\n",
      "\n",
      "#efootball2023 #music #konami #football #comp #highligh…\n",
      "2022-12-27 03:02:53+00:00\n",
      "\n",
      "**Tweet 4**\n",
      " What Religion Does Footballer Zlatan Ibrahimovic Follow #ibrahimovic #zlatan #football #zlatanibrahomovic #muslim #christian https://t.co/3Blg16BZ5q\n",
      "2022-12-26 15:21:05+00:00\n",
      "\n",
      "**Tweet 5**\n",
      " RT @MilanPosts: 📰 #CorSport: As for #Zlatan #Ibrahimovic's recovery, no date has been set for his return, but the time frame could be as la…\n",
      "2022-12-26 02:36:49+00:00\n",
      "\n",
      "**Tweet 6**\n",
      " RT @yt_GBH2: Amazing Goals Compilation in eFootball 2023 🎮⚽ | Christmas Special 🎄🎅\n",
      "\n",
      "#efootball2023 #music #konami #football #comp #highligh…\n",
      "2022-12-25 20:29:16+00:00\n",
      "\n",
      "**Tweet 7**\n",
      " Amazing Goals Compilation in eFootball 2023 🎮⚽ | Christmas Special 🎄🎅\n",
      "\n",
      "#efootball2023 #music #konami #football #comp #highlights #facebook #gaming #xbox #sport #fifaworldcup #qatar2022 #performance #skills #speed #goal #assist #compilation #cr7 #bale #zlatan #Ibrahimovic https://t.co/FVxGZDpEPR\n",
      "2022-12-25 07:08:28+00:00\n",
      "\n",
      "**Tweet 8**\n",
      " RT @Zlatankerala: Ibra wants the money 💸🤣\n",
      "\n",
      "#zlatanibrahimovic #ibrahimovic #zlatan #ACMilan #MilanTV #milan #Italy #Sweden #Giroud https://…\n",
      "2022-12-24 13:09:50+00:00\n",
      "\n",
      "**Tweet 9**\n",
      " The comment section 🤣🤣\n",
      "\"Once #zlatan #Ibrahimovic  took a break between a game now we call it Half-Time\"\n",
      "https://t.co/o1h83nepUz\n",
      "2022-12-24 11:42:55+00:00\n",
      "\n",
      "**Tweet 10**\n",
      " ⚽️🖊️ #Zlatan, oh no, sorry, Sanel #Ibrahimovic has taken over @URB_2010 ... Reserves! Read more on 👉 https://t.co/6bptcz6pum (🇩🇪)\n",
      "\n",
      "#football #luxembourg #fupa #fupalux #letzebuerg #soccer #fupanet\n",
      "2022-12-23 14:29:48+00:00\n",
      "\n",
      "**Tweet 11**\n",
      " Most Famous Celebrity On Social Media|| @Ibra_official or @KhabyLame \n",
      "#zlatan #Ibrahimovic #famous #khabylame \n",
      "#khaby #instagram #TikTok #youtubeshorts \n",
      "#tiweeter #facebookhacked \n",
      "#shortstories #funnymemes #football #footballreels #Socceroos #soccerlife #ContestAlert https://t.co/6TdXCoELcg\n",
      "2022-12-23 08:20:22+00:00\n",
      "\n",
      "**Tweet 12**\n",
      " What's #Best on https://t.co/Q5u4wVzMsE ?\n",
      "Incredible Save To Deny Zlatan Ibrahimovic\n",
      "https://t.co/CEWHKGnycI\n",
      "#sports #zlatanibrahimovic #zlatan #ibrahimovic #incredible #incrediblesave #save #saves #manchesterunited #manunited #bestsave https://t.co/s3m3r3tBPn\n",
      "2022-12-22 19:29:34+00:00\n",
      "\n",
      "**Tweet 13**\n",
      " What's #Best on https://t.co/ZQiMKSXeJS ?\n",
      "Incredible Save To Deny Zlatan Ibrahimovic\n",
      "https://t.co/SeYPf7MkYI\n",
      "#sports #zlatanibrahimovic #zlatan #ibrahimovic #incredible #incrediblesave #save #saves #manchesterunited #manunited #bestsave\n",
      "2022-12-22 19:28:48+00:00\n",
      "\n",
      "**Tweet 14**\n",
      " RT @MilanPosts: 📰 #CorSport: As for #Zlatan #Ibrahimovic's recovery, no date has been set for his return, but the time frame could be as la…\n",
      "2022-12-21 19:12:04+00:00\n",
      "\n",
      "**Tweet 15**\n",
      " 📰 #CorSport: As for #Zlatan #Ibrahimovic's recovery, no date has been set for his return, but the time frame could be as late as January. The Swede wants to feel 100% before he returns to the pitch. https://t.co/TaVXtV1xku\n",
      "2022-12-21 17:22:17+00:00\n"
     ]
    }
   ],
   "source": [
    "for i,tweet in enumerate(tweepy.Paginator(client.search_recent_tweets, query='(#zlatan #ibrahimovic) lang:en',\n",
    "                              tweet_fields=['context_annotations', 'created_at'], max_results=100).flatten(limit=10000)):\n",
    "    print(f'\\n**Tweet {i+1}**\\n',tweet.text)\n",
    "    print(tweet.created_at)"
   ]
  },
  {
   "attachments": {},
   "cell_type": "markdown",
   "metadata": {},
   "source": [
    "In order to grab even more tweets and run some meaningful analysis, we would need to ask for the **Academic Research product track** within the Twitter Developer space. Given that we are instead well-paid consultants, we simply grabbed recent tweets, and will use an \"hackier\" solution to extract all historical tweets about Zlatan..."
   ]
  },
  {
   "attachments": {},
   "cell_type": "markdown",
   "metadata": {},
   "source": [
    "### Hack your way into Twitter data with snscrape"
   ]
  },
  {
   "attachments": {},
   "cell_type": "markdown",
   "metadata": {},
   "source": [
    "Snscrape is a scraper for social networks. It can scrape Twitter, Facebook, Instagram, and many others, without any limits on the amount of data to be grabbed."
   ]
  },
  {
   "cell_type": "code",
   "execution_count": 3,
   "metadata": {},
   "outputs": [],
   "source": [
    "# Created a list to append all tweet attributes(data)\n",
    "attributes_container = []\n",
    "\n",
    "# Using TwitterSearchScraper to scrape data and append tweets to list\n",
    "for i,tweet in enumerate(sntwitter.TwitterSearchScraper('(#zlatan OR #ibrahimovic OR #zlatanibrahimovic OR @Ibra_official) lang:en').get_items()):\n",
    "    if i >= 100000:\n",
    "        break\n",
    "    attributes_container.append([tweet.user.username, tweet.date, tweet.likeCount, tweet.sourceLabel, tweet.content])\n",
    "\n",
    "# Creating a dataframe from the tweets list above \n",
    "tweets_df = pd.DataFrame(attributes_container, columns=[\"Username\", \"Date Created\", \"Number of Likes\", \"Source of Tweet\", \"Text\"])"
   ]
  },
  {
   "attachments": {},
   "cell_type": "markdown",
   "metadata": {},
   "source": [
    "Snscrape will start grabbing the most recent tweets first."
   ]
  },
  {
   "cell_type": "code",
   "execution_count": 15,
   "metadata": {},
   "outputs": [],
   "source": [
    "tweets_df.to_csv(r'H:\\Data science\\TwiZlatan\\Twitter data.csv')"
   ]
  },
  {
   "attachments": {},
   "cell_type": "markdown",
   "metadata": {},
   "source": [
    "### Sentiment analysis"
   ]
  },
  {
   "attachments": {},
   "cell_type": "markdown",
   "metadata": {},
   "source": [
    "* Data cleaning"
   ]
  },
  {
   "cell_type": "code",
   "execution_count": null,
   "metadata": {},
   "outputs": [],
   "source": []
  },
  {
   "attachments": {},
   "cell_type": "markdown",
   "metadata": {},
   "source": [
    "### References"
   ]
  },
  {
   "cell_type": "markdown",
   "metadata": {},
   "source": []
  }
 ],
 "metadata": {
  "kernelspec": {
   "display_name": "base",
   "language": "python",
   "name": "python3"
  },
  "language_info": {
   "codemirror_mode": {
    "name": "ipython",
    "version": 3
   },
   "file_extension": ".py",
   "mimetype": "text/x-python",
   "name": "python",
   "nbconvert_exporter": "python",
   "pygments_lexer": "ipython3",
   "version": "3.8.8"
  },
  "orig_nbformat": 4,
  "vscode": {
   "interpreter": {
    "hash": "1f329fe999473641a28ed581aaa14f6084033808b8de4df1f66a411be4e58aae"
   }
  }
 },
 "nbformat": 4,
 "nbformat_minor": 2
}
