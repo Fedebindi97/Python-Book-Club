{
 "cells": [
  {
   "attachments": {},
   "cell_type": "markdown",
   "metadata": {},
   "source": [
    "# TwiZlatan"
   ]
  },
  {
   "attachments": {},
   "cell_type": "markdown",
   "metadata": {},
   "source": [
    "For today's lesson, we're gonna learn something more practical: Twitter scraping with the [Twython](https://twython.readthedocs.io/en/latest/usage/install.html) package.\n",
    "\n",
    "The topic will be, as some of you already guessed from the name of the notebook, this guy:"
   ]
  },
  {
   "attachments": {},
   "cell_type": "markdown",
   "metadata": {},
   "source": [
    "![image](images/zlatan.PNG)"
   ]
  },
  {
   "attachments": {},
   "cell_type": "markdown",
   "metadata": {},
   "source": [
    "(If you don't know who he is, which is highly problematic, here is his [Wikipedia page](https://en.wikipedia.org/wiki/Zlatan_Ibrahimovi%C4%87))\n",
    "\n",
    "We're going to grab Tweets relating to him at different points in time and in different locations, to get an idea of how the public perception of ~~God~~ this guy has changed over time across the world."
   ]
  },
  {
   "attachments": {},
   "cell_type": "markdown",
   "metadata": {},
   "source": [
    "## Lesson plan\n",
    "\n",
    "1. General setup\n",
    "2. Get the most recent tweets\n",
    "3. Tweeting about Zlatan over time\n",
    "4. Tweeting about Zlatan by country\n",
    "5. A sentiment analyses of tweets about Zlatan"
   ]
  },
  {
   "attachments": {},
   "cell_type": "markdown",
   "metadata": {},
   "source": [
    "### 1. General setup"
   ]
  },
  {
   "attachments": {},
   "cell_type": "markdown",
   "metadata": {},
   "source": [
    "Let's start by importing the required packages:"
   ]
  },
  {
   "cell_type": "code",
   "execution_count": 5,
   "metadata": {},
   "outputs": [],
   "source": [
    "from twython import Twython, TwythonError\n",
    "import numpy as np\n",
    "import pandas as pd"
   ]
  },
  {
   "attachments": {},
   "cell_type": "markdown",
   "metadata": {},
   "source": [
    "Then, you need to generate an application to connect to the Twitter API: go to [this website](https://apps.twitter.com), generate an application, and store its API Key and API Key Secret in a safe location (you may be required to apply for a Twitter Developer account, and to apply for Elevated access).\n",
    "\n",
    "Then, we create a connection to the Twitter API:"
   ]
  },
  {
   "cell_type": "code",
   "execution_count": 4,
   "metadata": {},
   "outputs": [],
   "source": [
    "connection = Twython(\n",
    "    'FzB2q0GaUwVDeXujMAL0SMVb8', # API Key\n",
    "    '8iu3DHIoCnHES8I9x303hiUDKmdxXr8mAvzjQTZyEBRB7FJNWY' # API Key Secret\n",
    ")"
   ]
  },
  {
   "attachments": {},
   "cell_type": "markdown",
   "metadata": {},
   "source": [
    "### 2."
   ]
  },
  {
   "cell_type": "code",
   "execution_count": 7,
   "metadata": {},
   "outputs": [
    {
     "ename": "TwythonError",
     "evalue": "Twitter API returned a 403 (Forbidden), You currently have Essential access which includes access to Twitter API v2 endpoints only. If you need access to this endpoint, you’ll need to apply for Elevated access via the Developer Portal. You can learn more here: https://developer.twitter.com/en/docs/twitter-api/getting-started/about-twitter-api#v2-access-leve",
     "output_type": "error",
     "traceback": [
      "\u001b[1;31m---------------------------------------------------------------------------\u001b[0m",
      "\u001b[1;31mTwythonError\u001b[0m                              Traceback (most recent call last)",
      "\u001b[1;32mh:\\Data science\\Git\\Python-Book-Club\\ipynb\\TwiZlatan.ipynb Cell 12\u001b[0m in \u001b[0;36m<cell line: 1>\u001b[1;34m()\u001b[0m\n\u001b[1;32m----> <a href='vscode-notebook-cell:/h%3A/Data%20science/Git/Python-Book-Club/ipynb/TwiZlatan.ipynb#X23sZmlsZQ%3D%3D?line=0'>1</a>\u001b[0m results \u001b[39m=\u001b[39m connection\u001b[39m.\u001b[39;49msearch(q\u001b[39m=\u001b[39;49m\u001b[39m'\u001b[39;49m\u001b[39m#zlatan\u001b[39;49m\u001b[39m'\u001b[39;49m,count\u001b[39m=\u001b[39;49m\u001b[39m5\u001b[39;49m)\n",
      "File \u001b[1;32mc:\\Users\\fbindi\\Anaconda3\\lib\\site-packages\\twython\\endpoints.py:293\u001b[0m, in \u001b[0;36mEndpointsMixin.search\u001b[1;34m(self, **params)\u001b[0m\n\u001b[0;32m    286\u001b[0m \u001b[39mdef\u001b[39;00m \u001b[39msearch\u001b[39m(\u001b[39mself\u001b[39m, \u001b[39m*\u001b[39m\u001b[39m*\u001b[39mparams):\n\u001b[0;32m    287\u001b[0m     \u001b[39m\"\"\"Returns a collection of relevant Tweets matching a specified query.\u001b[39;00m\n\u001b[0;32m    288\u001b[0m \n\u001b[0;32m    289\u001b[0m \u001b[39m    Docs:\u001b[39;00m\n\u001b[0;32m    290\u001b[0m \u001b[39m    https://developer.twitter.com/en/docs/tweets/search/api-reference/get-search-tweets\u001b[39;00m\n\u001b[0;32m    291\u001b[0m \n\u001b[0;32m    292\u001b[0m \u001b[39m    \"\"\"\u001b[39;00m\n\u001b[1;32m--> 293\u001b[0m     \u001b[39mreturn\u001b[39;00m \u001b[39mself\u001b[39;49m\u001b[39m.\u001b[39;49mget(\u001b[39m'\u001b[39;49m\u001b[39msearch/tweets\u001b[39;49m\u001b[39m'\u001b[39;49m, params\u001b[39m=\u001b[39;49mparams)\n",
      "File \u001b[1;32mc:\\Users\\fbindi\\Anaconda3\\lib\\site-packages\\twython\\api.py:279\u001b[0m, in \u001b[0;36mTwython.get\u001b[1;34m(self, endpoint, params, version)\u001b[0m\n\u001b[0;32m    277\u001b[0m \u001b[39mdef\u001b[39;00m \u001b[39mget\u001b[39m(\u001b[39mself\u001b[39m, endpoint, params\u001b[39m=\u001b[39m\u001b[39mNone\u001b[39;00m, version\u001b[39m=\u001b[39m\u001b[39m'\u001b[39m\u001b[39m1.1\u001b[39m\u001b[39m'\u001b[39m):\n\u001b[0;32m    278\u001b[0m     \u001b[39m\"\"\"Shortcut for GET requests via :class:`request`\"\"\"\u001b[39;00m\n\u001b[1;32m--> 279\u001b[0m     \u001b[39mreturn\u001b[39;00m \u001b[39mself\u001b[39;49m\u001b[39m.\u001b[39;49mrequest(endpoint, params\u001b[39m=\u001b[39;49mparams, version\u001b[39m=\u001b[39;49mversion)\n",
      "File \u001b[1;32mc:\\Users\\fbindi\\Anaconda3\\lib\\site-packages\\twython\\api.py:272\u001b[0m, in \u001b[0;36mTwython.request\u001b[1;34m(self, endpoint, method, params, version, json_encoded)\u001b[0m\n\u001b[0;32m    269\u001b[0m \u001b[39melse\u001b[39;00m:\n\u001b[0;32m    270\u001b[0m     url \u001b[39m=\u001b[39m \u001b[39m'\u001b[39m\u001b[39m%s\u001b[39;00m\u001b[39m/\u001b[39m\u001b[39m%s\u001b[39;00m\u001b[39m.json\u001b[39m\u001b[39m'\u001b[39m \u001b[39m%\u001b[39m (\u001b[39mself\u001b[39m\u001b[39m.\u001b[39mapi_url \u001b[39m%\u001b[39m version, endpoint)\n\u001b[1;32m--> 272\u001b[0m content \u001b[39m=\u001b[39m \u001b[39mself\u001b[39;49m\u001b[39m.\u001b[39;49m_request(url, method\u001b[39m=\u001b[39;49mmethod, params\u001b[39m=\u001b[39;49mparams,\n\u001b[0;32m    273\u001b[0m                         api_call\u001b[39m=\u001b[39;49murl, json_encoded\u001b[39m=\u001b[39;49mjson_encoded)\n\u001b[0;32m    275\u001b[0m \u001b[39mreturn\u001b[39;00m content\n",
      "File \u001b[1;32mc:\\Users\\fbindi\\Anaconda3\\lib\\site-packages\\twython\\api.py:202\u001b[0m, in \u001b[0;36mTwython._request\u001b[1;34m(self, url, method, params, api_call, json_encoded)\u001b[0m\n\u001b[0;32m    195\u001b[0m     \u001b[39melif\u001b[39;00m response\u001b[39m.\u001b[39mstatus_code \u001b[39m==\u001b[39m \u001b[39m401\u001b[39m \u001b[39mor\u001b[39;00m \u001b[39m'\u001b[39m\u001b[39mBad Authentication data\u001b[39m\u001b[39m'\u001b[39m \\\n\u001b[0;32m    196\u001b[0m             \u001b[39min\u001b[39;00m error_message:\n\u001b[0;32m    197\u001b[0m         \u001b[39m# Twitter API 1.1, returns a 401 Unauthorized or\u001b[39;00m\n\u001b[0;32m    198\u001b[0m         \u001b[39m# a 400 \"Bad Authentication data\" for invalid/expired\u001b[39;00m\n\u001b[0;32m    199\u001b[0m         \u001b[39m# app keys/user tokens\u001b[39;00m\n\u001b[0;32m    200\u001b[0m         ExceptionType \u001b[39m=\u001b[39m TwythonAuthError\n\u001b[1;32m--> 202\u001b[0m     \u001b[39mraise\u001b[39;00m ExceptionType(\n\u001b[0;32m    203\u001b[0m         error_message,\n\u001b[0;32m    204\u001b[0m         error_code\u001b[39m=\u001b[39mresponse\u001b[39m.\u001b[39mstatus_code,\n\u001b[0;32m    205\u001b[0m         retry_after\u001b[39m=\u001b[39mresponse\u001b[39m.\u001b[39mheaders\u001b[39m.\u001b[39mget(\u001b[39m'\u001b[39m\u001b[39mX-Rate-Limit-Reset\u001b[39m\u001b[39m'\u001b[39m))\n\u001b[0;32m    206\u001b[0m content \u001b[39m=\u001b[39m \u001b[39m'\u001b[39m\u001b[39m'\u001b[39m\n\u001b[0;32m    207\u001b[0m \u001b[39mtry\u001b[39;00m:\n",
      "\u001b[1;31mTwythonError\u001b[0m: Twitter API returned a 403 (Forbidden), You currently have Essential access which includes access to Twitter API v2 endpoints only. If you need access to this endpoint, you’ll need to apply for Elevated access via the Developer Portal. You can learn more here: https://developer.twitter.com/en/docs/twitter-api/getting-started/about-twitter-api#v2-access-leve"
     ]
    }
   ],
   "source": [
    "results = connection.search(q='#zlatan',count=5)"
   ]
  },
  {
   "cell_type": "code",
   "execution_count": null,
   "metadata": {},
   "outputs": [],
   "source": []
  }
 ],
 "metadata": {
  "kernelspec": {
   "display_name": "base",
   "language": "python",
   "name": "python3"
  },
  "language_info": {
   "codemirror_mode": {
    "name": "ipython",
    "version": 3
   },
   "file_extension": ".py",
   "mimetype": "text/x-python",
   "name": "python",
   "nbconvert_exporter": "python",
   "pygments_lexer": "ipython3",
   "version": "3.8.8"
  },
  "orig_nbformat": 4,
  "vscode": {
   "interpreter": {
    "hash": "1f329fe999473641a28ed581aaa14f6084033808b8de4df1f66a411be4e58aae"
   }
  }
 },
 "nbformat": 4,
 "nbformat_minor": 2
}
