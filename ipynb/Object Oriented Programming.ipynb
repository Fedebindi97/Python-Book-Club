{
 "cells": [
  {
   "cell_type": "markdown",
   "metadata": {},
   "source": [
    "# Object oriented programming (OOP)"
   ]
  },
  {
   "cell_type": "markdown",
   "metadata": {},
   "source": [
    "From [Wikipedia](https://en.wikipedia.org/wiki/Object-oriented_programming): \n",
    "> *Object-oriented programming (OOP) is a programming paradigm based on the concept of \"objects\", which can contain data and code: data in the form of fields (often known as attributes or properties), and code, in the form of procedures (often known as methods).*\n",
    "\n",
    "In Python, *everything is an object*: think about lists, which contain data (the elements) and have methods that can be activated, such as *.append()* or *.pop()*.\n",
    "    \n",
    "Many widely used DS libraries in Python rely extensively on OOP. Think about Pandas, which is based on dataframes; Numpy, with arrays; or Scikit-learn, with its variety of models (LinearRegression, DecisionTreeClassifier, etc.).\n",
    "\n",
    "Programming around objects makes your code highly **modular** (hence, reusable and secure) and **scalable**."
   ]
  },
  {
   "cell_type": "markdown",
   "metadata": {},
   "source": [
    "## Lesson plan\n",
    "\n",
    "1. Creating objects: the *class* keyword\n",
    "2. Class object attributes\n",
    "3. Methods and class methods\n",
    "4. Inheritance\n",
    "5. Polymorphism\n",
    "6. Special methods\n",
    "7. Bonus section: interacting objects\n",
    "8. Additional resources"
   ]
  },
  {
   "cell_type": "markdown",
   "metadata": {},
   "source": [
    "### 1. Creating objects: the *class* keyword"
   ]
  },
  {
   "cell_type": "markdown",
   "metadata": {},
   "source": [
    "How do we create a new object class? Using *class*.\n",
    "\n",
    "Suppose we want to create a class of [Formula 1](https://en.wikipedia.org/wiki/Formula_One) cars. These cars have attributes (such as the color, size, engine) and methods (such as start, stop, accelerate, etc.).\n",
    "\n",
    "The special method called `__init__()` is used to initialize attributes."
   ]
  },
  {
   "cell_type": "code",
   "execution_count": 2,
   "metadata": {},
   "outputs": [],
   "source": [
    "class F1car: # usually class names begin with a capital letter (as opposed to variables)\n",
    "    def __init__(self,color): # \"self\" is a convention\n",
    "        self.color = color  # matching the attribute name (\"self.color\") with the argument inputted during instantiation (\"color\") is a convention\n",
    "                            # as well\n",
    "        \n",
    "ferrari = F1car(color='red')\n",
    "mercedes = F1car(color='gray')"
   ]
  },
  {
   "cell_type": "markdown",
   "metadata": {},
   "source": [
    "Let's access the attributes of the two instances of F1car we just created:"
   ]
  },
  {
   "cell_type": "code",
   "execution_count": 3,
   "metadata": {},
   "outputs": [
    {
     "data": {
      "text/plain": [
       "'red'"
      ]
     },
     "execution_count": 3,
     "metadata": {},
     "output_type": "execute_result"
    }
   ],
   "source": [
    "ferrari.color # attributes don't have parentheses because they don't take any arguments"
   ]
  },
  {
   "cell_type": "code",
   "execution_count": 4,
   "metadata": {},
   "outputs": [
    {
     "data": {
      "text/plain": [
       "'gray'"
      ]
     },
     "execution_count": 4,
     "metadata": {},
     "output_type": "execute_result"
    }
   ],
   "source": [
    "mercedes.color"
   ]
  },
  {
   "cell_type": "markdown",
   "metadata": {},
   "source": [
    "Let's check the type of ferrari:"
   ]
  },
  {
   "cell_type": "code",
   "execution_count": 5,
   "metadata": {},
   "outputs": [
    {
     "data": {
      "text/plain": [
       "__main__.F1car"
      ]
     },
     "execution_count": 5,
     "metadata": {},
     "output_type": "execute_result"
    }
   ],
   "source": [
    "type(ferrari)"
   ]
  },
  {
   "cell_type": "markdown",
   "metadata": {},
   "source": [
    "We can also add new attributes that were not specified during class definition:"
   ]
  },
  {
   "cell_type": "code",
   "execution_count": 6,
   "metadata": {},
   "outputs": [],
   "source": [
    "ferrari.country = 'Italy'"
   ]
  },
  {
   "cell_type": "markdown",
   "metadata": {},
   "source": [
    "### 2. Class object attributes"
   ]
  },
  {
   "cell_type": "markdown",
   "metadata": {},
   "source": [
    "In Python there are also *class object attributes*. These Class Object Attributes are the same for any instance of the class. For example, all Formula 1 cars have 4 wheels:"
   ]
  },
  {
   "cell_type": "code",
   "execution_count": 7,
   "metadata": {},
   "outputs": [],
   "source": [
    "class F1car:\n",
    "\n",
    "    wheel_nr = 4 # not immutable!\n",
    "\n",
    "    def __init__(self,color,current_speed,top_speed=345):\n",
    "        self.color = color\n",
    "        self.current_speed = current_speed\n",
    "        self.top_speed = top_speed"
   ]
  },
  {
   "cell_type": "code",
   "execution_count": 8,
   "metadata": {},
   "outputs": [
    {
     "data": {
      "text/plain": [
       "4"
      ]
     },
     "execution_count": 8,
     "metadata": {},
     "output_type": "execute_result"
    }
   ],
   "source": [
    "ferrari = F1car('red',240) # notice that we didn't explicitly input a value for top_speed, as we assigned it a default value during class definition;\n",
    "                           # and we didn't specify the name of the attributes we were assigning, as long as we followed order\n",
    "ferrari.wheel_nr"
   ]
  },
  {
   "cell_type": "markdown",
   "metadata": {},
   "source": [
    "We must pay particular attention not to use **mutable objects** (such as lists or dictionaries) as class object attributes, because modifying it for one instance of the object will modify it for any other instance!"
   ]
  },
  {
   "cell_type": "code",
   "execution_count": 9,
   "metadata": {},
   "outputs": [],
   "source": [
    "class F1car:\n",
    "    pilots = []\n",
    "\n",
    "haas = F1car()\n",
    "alfaromeo = F1car()"
   ]
  },
  {
   "cell_type": "code",
   "execution_count": 10,
   "metadata": {},
   "outputs": [],
   "source": [
    "haas.pilots.append('Kevin Magnussen')\n",
    "alfaromeo.pilots.append('Valtteri Bottas')"
   ]
  },
  {
   "cell_type": "code",
   "execution_count": 11,
   "metadata": {},
   "outputs": [
    {
     "name": "stdout",
     "output_type": "stream",
     "text": [
      "['Kevin Magnussen', 'Valtteri Bottas']\n",
      "['Kevin Magnussen', 'Valtteri Bottas']\n"
     ]
    }
   ],
   "source": [
    "print(haas.pilots)\n",
    "print(alfaromeo.pilots)"
   ]
  },
  {
   "cell_type": "markdown",
   "metadata": {},
   "source": [
    "### 3. Methods and class methods"
   ]
  },
  {
   "cell_type": "markdown",
   "metadata": {},
   "source": [
    "Methods are functions defined inside the body of a class. They are used to perform operations with the attributes of our objects (either changing the attributes, or returning results). We can basically think of methods as functions acting on an Object that take the Object itself into account through its *self* argument."
   ]
  },
  {
   "cell_type": "code",
   "execution_count": 12,
   "metadata": {},
   "outputs": [],
   "source": [
    "from PIL import Image\n",
    "\n",
    "class F1car:\n",
    "\n",
    "    wheel_nr = 4\n",
    "\n",
    "    def __init__(self,color,image,current_speed,top_speed=345):\n",
    "        self.color = color\n",
    "        self.image = image\n",
    "        self.current_speed = current_speed\n",
    "        self.top_speed = top_speed\n",
    "    \n",
    "    def accelerate(self,speed_increase): # the first parameter is always self\n",
    "        self.current_speed = self.current_speed + speed_increase\n",
    "\n",
    "    def show_image(self):\n",
    "        Image.open(self.image).show()\n",
    "\n",
    "ferrari = F1car('red',r'H:\\Data science\\Git\\Python-Book-Club\\ipynb\\images\\Ferrari_F1-75_in_Melbourne.jpg',240) # insert your path to image\n",
    "mercedes = F1car('gray',r'H:\\Data science\\Git\\Python-Book-Club\\ipynb\\images\\george-russell-mercedes-w13-1.jpg',235) # insert your path to image"
   ]
  },
  {
   "cell_type": "code",
   "execution_count": 13,
   "metadata": {},
   "outputs": [
    {
     "data": {
      "text/plain": [
       "250"
      ]
     },
     "execution_count": 13,
     "metadata": {},
     "output_type": "execute_result"
    }
   ],
   "source": [
    "ferrari.accelerate(10)\n",
    "ferrari.current_speed"
   ]
  },
  {
   "cell_type": "code",
   "execution_count": 14,
   "metadata": {},
   "outputs": [],
   "source": [
    "ferrari.show_image()"
   ]
  },
  {
   "cell_type": "code",
   "execution_count": 15,
   "metadata": {},
   "outputs": [],
   "source": [
    "mercedes.show_image()"
   ]
  },
  {
   "cell_type": "markdown",
   "metadata": {},
   "source": [
    "It is also possible to define **class methods**, namely methods that act on the class object, as opposed to specific instances. These methods access class object attributes, and not instance attributes. \n",
    "\n",
    "This can be useful when we want to be able to create slightly different versions of the class, without having to redefine it every time (that is, we create 'factory' methods, that produce concrete implementations of a common interface.)"
   ]
  },
  {
   "cell_type": "code",
   "execution_count": 16,
   "metadata": {},
   "outputs": [],
   "source": [
    "class FrenchF1car:\n",
    "\n",
    "    team_name = 'Renault'\n",
    "\n",
    "    def __init__(self,pilot_name):\n",
    "        self.pilot_name = pilot_name\n",
    "\n",
    "    @classmethod  # This is called a \"decorator\", but let's keep the lesson simple...\n",
    "    def change_name(cls,team_name): # 'cls' refer to the class\n",
    "        FrenchF1car.team_name = team_name # modify class variables"
   ]
  },
  {
   "cell_type": "code",
   "execution_count": 17,
   "metadata": {},
   "outputs": [
    {
     "data": {
      "text/plain": [
       "'Renault'"
      ]
     },
     "execution_count": 17,
     "metadata": {},
     "output_type": "execute_result"
    }
   ],
   "source": [
    "ocon = FrenchF1car('Esteban Ocon')\n",
    "ocon.team_name"
   ]
  },
  {
   "cell_type": "code",
   "execution_count": 18,
   "metadata": {},
   "outputs": [
    {
     "data": {
      "text/plain": [
       "'Alpine'"
      ]
     },
     "execution_count": 18,
     "metadata": {},
     "output_type": "execute_result"
    }
   ],
   "source": [
    "FrenchF1car.change_name('Alpine')\n",
    "ocon.team_name"
   ]
  },
  {
   "cell_type": "markdown",
   "metadata": {},
   "source": [
    "### 4. Inheritance"
   ]
  },
  {
   "cell_type": "markdown",
   "metadata": {},
   "source": [
    "Inheritance is a way to form new classes using classes that have already been defined. The newly formed classes are called derived classes (or child classes), the classes that we derive from are called base classes (or parent classes). Important benefits of inheritance are code reuse and reduction of complexity of a program. The derived classes (descendants) override or extend the functionality of base classes (ancestors).\n",
    "\n",
    "Let's see an example by incorporating our previous work on the F1car class:"
   ]
  },
  {
   "cell_type": "code",
   "execution_count": 19,
   "metadata": {},
   "outputs": [],
   "source": [
    "class RaceCar:\n",
    "\n",
    "    fuel = 'diesel'\n",
    "\n",
    "    def __init__(self,engine_type,weight):\n",
    "        self.engine_type = engine_type\n",
    "        self.weight = weight\n",
    "        print(\"Race car created!\")\n",
    "\n",
    "    def whoAmI(self):\n",
    "        print(\"I am a race car!\")\n",
    "\n",
    "    def sound(self):\n",
    "        print(\"Wroom wroom\")\n",
    "\n",
    "class F1car(RaceCar):\n",
    "    \n",
    "    def __init__(self,engine_type,weight,color):\n",
    "        super().__init__(engine_type,weight) # we handle inheritance of attributes via the super(). method - no need to redefine attributes in child class\n",
    "        self.color = color\n",
    "        print(\"F1 car created!\")\n",
    "\n",
    "    def whoAmI(self):\n",
    "        print(\"I am a F1 car!\")\n",
    "\n",
    "    def pitstop(self):\n",
    "        print(\"I need to change my tyres!\")"
   ]
  },
  {
   "cell_type": "code",
   "execution_count": 20,
   "metadata": {},
   "outputs": [
    {
     "name": "stdout",
     "output_type": "stream",
     "text": [
      "Race car created!\n",
      "F1 car created!\n",
      "I am a F1 car!\n"
     ]
    }
   ],
   "source": [
    "ferrari = F1car('V6',7000,'red')\n",
    "ferrari.whoAmI() # override of ancestor's method"
   ]
  },
  {
   "cell_type": "code",
   "execution_count": 22,
   "metadata": {},
   "outputs": [
    {
     "name": "stdout",
     "output_type": "stream",
     "text": [
      "Wroom wroom\n",
      "diesel\n"
     ]
    }
   ],
   "source": [
    "ferrari.sound() # inheritance of ancestor's method\n",
    "print(ferrari.fuel) # inheritance of ancestor's class attribute"
   ]
  },
  {
   "cell_type": "code",
   "execution_count": 23,
   "metadata": {},
   "outputs": [
    {
     "name": "stdout",
     "output_type": "stream",
     "text": [
      "I need to change my tyres!\n"
     ]
    }
   ],
   "source": [
    "ferrari.pitstop() # new method only available in descendant"
   ]
  },
  {
   "cell_type": "markdown",
   "metadata": {},
   "source": [
    "Let's check whether `ferrari` is indeed an instance of both `RaceCar` and `F1car`."
   ]
  },
  {
   "cell_type": "code",
   "execution_count": 24,
   "metadata": {},
   "outputs": [
    {
     "name": "stdout",
     "output_type": "stream",
     "text": [
      "True\n",
      "True\n"
     ]
    }
   ],
   "source": [
    "print(isinstance(ferrari,F1car))\n",
    "print(isinstance(ferrari,RaceCar))"
   ]
  },
  {
   "cell_type": "markdown",
   "metadata": {},
   "source": [
    "We can also check the \"parental relationship\" of two classes:"
   ]
  },
  {
   "cell_type": "code",
   "execution_count": 25,
   "metadata": {},
   "outputs": [
    {
     "name": "stdout",
     "output_type": "stream",
     "text": [
      "True\n"
     ]
    }
   ],
   "source": [
    "print(issubclass(F1car,RaceCar))"
   ]
  },
  {
   "cell_type": "markdown",
   "metadata": {},
   "source": [
    "We could define multiple layers of parents and children, and have methods and attributes be inherited down the \"family tree\". \n",
    "\n",
    "We can also allow a child class to inherit from more than one parent class, which is known as **multiple inheritance**."
   ]
  },
  {
   "cell_type": "code",
   "execution_count": 26,
   "metadata": {},
   "outputs": [
    {
     "name": "stdout",
     "output_type": "stream",
     "text": [
      "My engine is Honda and my wheels are Pirelli.\n"
     ]
    }
   ],
   "source": [
    "class Wheels():\n",
    "    def __init__(self):\n",
    "        self.brand_wheels = 'Pirelli'\n",
    " \n",
    "\n",
    "class Engine():\n",
    "    def __init__(self):\n",
    "        self.brand_engine = 'Honda'\n",
    " \n",
    "\n",
    "class Formula1car(Wheels,Engine):\n",
    "    def __init__(self):\n",
    "        Wheels.__init__(self) # Alternative method to handle inheritance\n",
    "        Engine.__init__(self)\n",
    " \n",
    "    def print_info(self):\n",
    "        print(f'My engine is {self.brand_engine} and my wheels are {self.brand_wheels}.')\n",
    " \n",
    " \n",
    "redbull = Formula1car()\n",
    "redbull.print_info()"
   ]
  },
  {
   "cell_type": "markdown",
   "metadata": {},
   "source": [
    "Notice that, when working in **notebooks**, if we have already defined both the child and parent class, and we make a change within the parent class, this change does not propagate automatically to the child class."
   ]
  },
  {
   "cell_type": "code",
   "execution_count": 27,
   "metadata": {},
   "outputs": [],
   "source": [
    "class RaceCar:\n",
    "\n",
    "    def __init__(self,engine_type,weight):\n",
    "        self.engine_type = engine_type\n",
    "        self.weight = weight\n",
    "        print(\"Race car created!\")\n",
    "\n",
    "    def whoAmI(self):\n",
    "        print(\"I am a race car!\")\n",
    "\n",
    "    def sound(self):\n",
    "        print(\"Broom broom\") # We changed this string"
   ]
  },
  {
   "cell_type": "code",
   "execution_count": 28,
   "metadata": {},
   "outputs": [
    {
     "name": "stdout",
     "output_type": "stream",
     "text": [
      "Race car created!\n",
      "F1 car created!\n",
      "Wroom wroom\n"
     ]
    }
   ],
   "source": [
    "ferrari = F1car('V6',7000,'red')\n",
    "ferrari.sound()"
   ]
  },
  {
   "cell_type": "markdown",
   "metadata": {},
   "source": [
    "We would need to redefine `F1car` as well to see the change take place. However, if we work with **scripts** (.py files), this is not the case: inheritance allows changes to flow automatically from parents to children. Suppose we have a script called `car_classes.py`, containing both `F1car` and its parent class `RaceCar`. If we modify the `RaceCar` class and call the `F1car` when we start coding, with \n",
    "\n",
    "`from car_classes import F1car`\n",
    "\n",
    "the changes will propagate automatically to `F1car`."
   ]
  },
  {
   "cell_type": "markdown",
   "metadata": {},
   "source": [
    "### 5. Polymorphism"
   ]
  },
  {
   "cell_type": "markdown",
   "metadata": {},
   "source": [
    "In Python, *polymorphism* refers to the way in which different object classes can share the same method name, and those methods can be called from the same place even though a variety of different objects might be passed in."
   ]
  },
  {
   "cell_type": "code",
   "execution_count": 29,
   "metadata": {},
   "outputs": [
    {
     "name": "stdout",
     "output_type": "stream",
     "text": [
      "Charles Leclerc and Carlos Sainz\n",
      "George Russell and Lewis Hamilton\n"
     ]
    }
   ],
   "source": [
    "class Ferrari:\n",
    "\n",
    "    def pilots(self):\n",
    "        print(\"Charles Leclerc and Carlos Sainz\")\n",
    "    \n",
    "class Mercedes:\n",
    "\n",
    "    def pilots(self):\n",
    "        print(\"George Russell and Lewis Hamilton\")\n",
    "\n",
    "ferrari = Ferrari()\n",
    "mercedes = Mercedes()\n",
    "\n",
    "ferrari.pilots()\n",
    "mercedes.pilots()"
   ]
  },
  {
   "cell_type": "markdown",
   "metadata": {},
   "source": [
    "This happens because methods, unlike functions, belong to the objects they act on.\n",
    "\n",
    "A common practice is to use abstract classes and inheritance. An abstract class is one that never expects to be instantiated. For example, we can define the parent class and the methods we want children class to inherit, but we can raise a custom-defined error whenever the method is called directly from an instance of the parent class, rather than from an instance of the children class:"
   ]
  },
  {
   "cell_type": "code",
   "execution_count": 30,
   "metadata": {},
   "outputs": [
    {
     "name": "stdout",
     "output_type": "stream",
     "text": [
      "My color is red.\n"
     ]
    },
    {
     "ename": "NotImplementedError",
     "evalue": "You need to instantiate a child class before calling this method!",
     "output_type": "error",
     "traceback": [
      "\u001b[1;31m---------------------------------------------------------------------------\u001b[0m",
      "\u001b[1;31mNotImplementedError\u001b[0m                       Traceback (most recent call last)",
      "\u001b[1;32mc:\\Users\\fbindi\\Desktop\\Data science\\Python Book Club - OOP\\Python book club - OOP.ipynb Cell 52\u001b[0m in \u001b[0;36m<cell line: 18>\u001b[1;34m()\u001b[0m\n\u001b[0;32m     <a href='vscode-notebook-cell:/c%3A/Users/fbindi/Desktop/Data%20science/Python%20Book%20Club%20-%20OOP/Python%20book%20club%20-%20OOP.ipynb#Y102sZmlsZQ%3D%3D?line=14'>15</a>\u001b[0m ferrari\u001b[39m.\u001b[39mcheck_color()\n\u001b[0;32m     <a href='vscode-notebook-cell:/c%3A/Users/fbindi/Desktop/Data%20science/Python%20Book%20Club%20-%20OOP/Python%20book%20club%20-%20OOP.ipynb#Y102sZmlsZQ%3D%3D?line=16'>17</a>\u001b[0m generic_car \u001b[39m=\u001b[39m F1car()\n\u001b[1;32m---> <a href='vscode-notebook-cell:/c%3A/Users/fbindi/Desktop/Data%20science/Python%20Book%20Club%20-%20OOP/Python%20book%20club%20-%20OOP.ipynb#Y102sZmlsZQ%3D%3D?line=17'>18</a>\u001b[0m generic_car\u001b[39m.\u001b[39;49mcheck_color()\n",
      "\u001b[1;32mc:\\Users\\fbindi\\Desktop\\Data science\\Python Book Club - OOP\\Python book club - OOP.ipynb Cell 52\u001b[0m in \u001b[0;36mF1car.check_color\u001b[1;34m(self)\u001b[0m\n\u001b[0;32m      <a href='vscode-notebook-cell:/c%3A/Users/fbindi/Desktop/Data%20science/Python%20Book%20Club%20-%20OOP/Python%20book%20club%20-%20OOP.ipynb#Y102sZmlsZQ%3D%3D?line=5'>6</a>\u001b[0m \u001b[39mdef\u001b[39;00m \u001b[39mcheck_color\u001b[39m(\u001b[39mself\u001b[39m):\n\u001b[1;32m----> <a href='vscode-notebook-cell:/c%3A/Users/fbindi/Desktop/Data%20science/Python%20Book%20Club%20-%20OOP/Python%20book%20club%20-%20OOP.ipynb#Y102sZmlsZQ%3D%3D?line=6'>7</a>\u001b[0m     \u001b[39mraise\u001b[39;00m \u001b[39mNotImplementedError\u001b[39;00m(\u001b[39m\"\u001b[39m\u001b[39mYou need to instantiate a child class before calling this method!\u001b[39m\u001b[39m\"\u001b[39m)\n",
      "\u001b[1;31mNotImplementedError\u001b[0m: You need to instantiate a child class before calling this method!"
     ]
    }
   ],
   "source": [
    "class F1car:\n",
    "    \n",
    "    def __init__(self,color='red'):\n",
    "        self.color = color\n",
    "\n",
    "    def check_color(self):\n",
    "        raise NotImplementedError(\"You need to instantiate a child class before calling this method!\")\n",
    "\n",
    "class Ferrari(F1car):\n",
    "\n",
    "    def check_color(self):\n",
    "        print(f'My color is {self.color}.') # the Ferrari class inherits the color attribute from the parent class\n",
    "\n",
    "ferrari = Ferrari()\n",
    "ferrari.check_color()\n",
    "\n",
    "generic_car = F1car()\n",
    "generic_car.check_color()"
   ]
  },
  {
   "cell_type": "markdown",
   "metadata": {},
   "source": [
    "### 6. Special methods"
   ]
  },
  {
   "cell_type": "markdown",
   "metadata": {},
   "source": [
    "Classes in Python can implement certain operations with special method names. These methods are not actually called directly but by Python specific language syntax. These special methods are defined by their use of underscores (they are also called \"dunder\" methods, from \"double underscore\"). They allow us to use Python specific functions on objects created through our class."
   ]
  },
  {
   "cell_type": "code",
   "execution_count": 31,
   "metadata": {},
   "outputs": [],
   "source": [
    "class F1car:\n",
    "    def __init__(self, team, color, length):\n",
    "        print(\"The car has entered the track!\")\n",
    "        self.team = team\n",
    "        self.color = color\n",
    "        self.length = length"
   ]
  },
  {
   "cell_type": "code",
   "execution_count": 32,
   "metadata": {},
   "outputs": [
    {
     "name": "stdout",
     "output_type": "stream",
     "text": [
      "The car has entered the track!\n",
      "<__main__.F1car object at 0x0000020D34849BE0>\n"
     ]
    }
   ],
   "source": [
    "aston_martin = F1car('Aston Martin','green',4)\n",
    "print(aston_martin)"
   ]
  },
  {
   "cell_type": "code",
   "execution_count": 33,
   "metadata": {},
   "outputs": [],
   "source": [
    "class F1car:\n",
    "    def __init__(self, team, color, length):\n",
    "        print(\"The car has entered the track!\")\n",
    "        self.team = team\n",
    "        self.color = color\n",
    "        self.length = length\n",
    "\n",
    "    def __str__(self):\n",
    "        return f'The car belongs to the {self.team} team and its color is {self.color}.' # string representation of the object\n",
    "\n",
    "    def __len__(self):\n",
    "        return self.length # length needs to be an integer\n",
    "\n",
    "    def __del__(self):\n",
    "        print(\"The car has crashed.\")"
   ]
  },
  {
   "cell_type": "code",
   "execution_count": 34,
   "metadata": {},
   "outputs": [
    {
     "name": "stdout",
     "output_type": "stream",
     "text": [
      "The car has entered the track!\n",
      "The car belongs to the Alpine team and its color is blue.\n",
      "4\n",
      "The car has crashed.\n"
     ]
    }
   ],
   "source": [
    "alpine = F1car('Alpine','blue',4)\n",
    "print(alpine)\n",
    "print(len(alpine))\n",
    "del alpine"
   ]
  },
  {
   "cell_type": "code",
   "execution_count": 35,
   "metadata": {},
   "outputs": [
    {
     "ename": "NameError",
     "evalue": "name 'alpine' is not defined",
     "output_type": "error",
     "traceback": [
      "\u001b[1;31m---------------------------------------------------------------------------\u001b[0m",
      "\u001b[1;31mNameError\u001b[0m                                 Traceback (most recent call last)",
      "\u001b[1;32mc:\\Users\\fbindi\\Desktop\\Data science\\Python Book Club - OOP\\Python book club - OOP.ipynb Cell 59\u001b[0m in \u001b[0;36m<cell line: 1>\u001b[1;34m()\u001b[0m\n\u001b[1;32m----> <a href='vscode-notebook-cell:/c%3A/Users/fbindi/Desktop/Data%20science/Python%20Book%20Club%20-%20OOP/Python%20book%20club%20-%20OOP.ipynb#Y112sZmlsZQ%3D%3D?line=0'>1</a>\u001b[0m alpine\n",
      "\u001b[1;31mNameError\u001b[0m: name 'alpine' is not defined"
     ]
    }
   ],
   "source": [
    "alpine # it doesn't exist anymore!"
   ]
  },
  {
   "cell_type": "markdown",
   "metadata": {},
   "source": [
    "There are more special methods than the ones illustrated above (see [here](https://www.informit.com/articles/article.aspx?p=453682&seqNum=6) for examples)."
   ]
  },
  {
   "cell_type": "markdown",
   "metadata": {},
   "source": [
    "### 7. Bonus section: interacting objects"
   ]
  },
  {
   "cell_type": "markdown",
   "metadata": {},
   "source": [
    "We can use other objects of the same class as inputs for our class methods:"
   ]
  },
  {
   "cell_type": "code",
   "execution_count": 36,
   "metadata": {},
   "outputs": [
    {
     "name": "stdout",
     "output_type": "stream",
     "text": [
      "Overtake successful!\n",
      "Overtake failed...\n"
     ]
    }
   ],
   "source": [
    "class F1car:\n",
    "\n",
    "    def __init__(self,speed):\n",
    "        self.speed = speed\n",
    "\n",
    "    def overtake(self,other_car):\n",
    "        if self.speed >= other_car.speed:\n",
    "            print('Overtake successful!')\n",
    "        else:\n",
    "            print('Overtake failed...')\n",
    "\n",
    "ferrari = F1car(290)\n",
    "mercedes = F1car(280)\n",
    "\n",
    "ferrari.overtake(mercedes)\n",
    "mercedes.overtake(ferrari)"
   ]
  },
  {
   "cell_type": "markdown",
   "metadata": {},
   "source": [
    "### 8. Additional resources"
   ]
  },
  {
   "cell_type": "markdown",
   "metadata": {},
   "source": [
    "* Python's [documentation on classes](https://docs.python.org/3/tutorial/classes.html);\n",
    "* Additional online tutorials on OOP in Python ([here](https://jeffknupp.com/blog/2014/06/18/improve-your-python-python-classes-and-object-oriented-programming/) and [here](https://www.tutorialspoint.com/python/python_classes_objects.htm));\n",
    "* A nice [Udemy course](https://www.udemy.com/course/python-for-data-science-and-machine-learning-bootcamp) on Python for Data Science;\n",
    "* A [website](https://sportsurge.club/) to watch Formula 1 for free (if someone asks, I didn't give you the link)."
   ]
  }
 ],
 "metadata": {
  "kernelspec": {
   "display_name": "base",
   "language": "python",
   "name": "python3"
  },
  "language_info": {
   "codemirror_mode": {
    "name": "ipython",
    "version": 3
   },
   "file_extension": ".py",
   "mimetype": "text/x-python",
   "name": "python",
   "nbconvert_exporter": "python",
   "pygments_lexer": "ipython3",
   "version": "3.8.8"
  },
  "orig_nbformat": 4,
  "vscode": {
   "interpreter": {
    "hash": "1f329fe999473641a28ed581aaa14f6084033808b8de4df1f66a411be4e58aae"
   }
  }
 },
 "nbformat": 4,
 "nbformat_minor": 2
}
