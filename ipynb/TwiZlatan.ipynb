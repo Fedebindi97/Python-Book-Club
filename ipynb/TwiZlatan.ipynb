{
 "cells": [
  {
   "attachments": {},
   "cell_type": "markdown",
   "metadata": {},
   "source": [
    "# TwiZlatan"
   ]
  },
  {
   "attachments": {},
   "cell_type": "markdown",
   "metadata": {},
   "source": [
    "For today's lesson, we're gonna learn something more practical: Twitter scraping with the [Twython](https://twython.readthedocs.io/en/latest/usage/install.html) package.\n",
    "\n",
    "The topic will be, as some of you already guessed from the name of the notebook, this guy:"
   ]
  },
  {
   "attachments": {},
   "cell_type": "markdown",
   "metadata": {},
   "source": [
    "![image](images/zlatan.PNG)"
   ]
  },
  {
   "attachments": {},
   "cell_type": "markdown",
   "metadata": {},
   "source": [
    "(If you don't know who he is, which is highly problematic, here is his [Wikipedia page](https://en.wikipedia.org/wiki/Zlatan_Ibrahimovi%C4%87))\n",
    "\n",
    "We're going to grab Tweets relating to him at different points in time and in different locations, to get an idea of how the public perception of ~~God~~ this guy has changed over time across the world."
   ]
  },
  {
   "attachments": {},
   "cell_type": "markdown",
   "metadata": {},
   "source": [
    "## Lesson plan\n",
    "\n",
    "1. Grabbing some tweets with Twython\n",
    "2. Tweeting about Zlatan over time\n",
    "3. Tweeting about Zlatan by country\n",
    "4. A sentiment analyses of tweets about Zlatan"
   ]
  },
  {
   "attachments": {},
   "cell_type": "markdown",
   "metadata": {},
   "source": [
    "Let's start by importing the required packages:"
   ]
  },
  {
   "cell_type": "code",
   "execution_count": 9,
   "metadata": {},
   "outputs": [],
   "source": [
    "from twython import Twython, TwythonError\n",
    "import tweepy\n",
    "import configparser\n",
    "import numpy as np\n",
    "import pandas as pd"
   ]
  },
  {
   "attachments": {},
   "cell_type": "markdown",
   "metadata": {},
   "source": [
    "Then, you need to generate an application to connect to the Twitter API: go to [this website](https://apps.twitter.com), generate an application, and store its credentials in a safe location, preferrably an .ini file. You will be required to apply for a Twitter Developer account, and to apply for Elevated access."
   ]
  },
  {
   "cell_type": "code",
   "execution_count": 23,
   "metadata": {},
   "outputs": [
    {
     "ename": "InterpolationSyntaxError",
     "evalue": "'%' must be followed by '%' or '(', found: \"%2BkgEAAAAAi2ngpFCjWXUUVonIHqc%2FmUL22%2Fc%3DBP578x5xbmYX27nSjTFanlfqYxTGedOdtPeCd0YS61LLo18Y0a'\"",
     "output_type": "error",
     "traceback": [
      "\u001b[1;31m---------------------------------------------------------------------------\u001b[0m",
      "\u001b[1;31mInterpolationSyntaxError\u001b[0m                  Traceback (most recent call last)",
      "\u001b[1;32mh:\\Data science\\Git\\Python-Book-Club\\ipynb\\TwiZlatan.ipynb Cell 9\u001b[0m in \u001b[0;36m<cell line: 6>\u001b[1;34m()\u001b[0m\n\u001b[0;32m      <a href='vscode-notebook-cell:/h%3A/Data%20science/Git/Python-Book-Club/ipynb/TwiZlatan.ipynb#X26sZmlsZQ%3D%3D?line=3'>4</a>\u001b[0m api_key \u001b[39m=\u001b[39m config[\u001b[39m'\u001b[39m\u001b[39mtwitter\u001b[39m\u001b[39m'\u001b[39m][\u001b[39m'\u001b[39m\u001b[39mapi_key\u001b[39m\u001b[39m'\u001b[39m]\n\u001b[0;32m      <a href='vscode-notebook-cell:/h%3A/Data%20science/Git/Python-Book-Club/ipynb/TwiZlatan.ipynb#X26sZmlsZQ%3D%3D?line=4'>5</a>\u001b[0m api_key_secret \u001b[39m=\u001b[39m config[\u001b[39m'\u001b[39m\u001b[39mtwitter\u001b[39m\u001b[39m'\u001b[39m][\u001b[39m'\u001b[39m\u001b[39mapi_key_secret\u001b[39m\u001b[39m'\u001b[39m]\n\u001b[1;32m----> <a href='vscode-notebook-cell:/h%3A/Data%20science/Git/Python-Book-Club/ipynb/TwiZlatan.ipynb#X26sZmlsZQ%3D%3D?line=5'>6</a>\u001b[0m bearer_token \u001b[39m=\u001b[39m config[\u001b[39m'\u001b[39;49m\u001b[39mtwitter\u001b[39;49m\u001b[39m'\u001b[39;49m][\u001b[39m'\u001b[39;49m\u001b[39mbearer_token\u001b[39;49m\u001b[39m'\u001b[39;49m]\n\u001b[0;32m      <a href='vscode-notebook-cell:/h%3A/Data%20science/Git/Python-Book-Club/ipynb/TwiZlatan.ipynb#X26sZmlsZQ%3D%3D?line=6'>7</a>\u001b[0m access_token \u001b[39m=\u001b[39m config[\u001b[39m'\u001b[39m\u001b[39mtwitter\u001b[39m\u001b[39m'\u001b[39m][\u001b[39m'\u001b[39m\u001b[39maccess_token\u001b[39m\u001b[39m'\u001b[39m]\n\u001b[0;32m      <a href='vscode-notebook-cell:/h%3A/Data%20science/Git/Python-Book-Club/ipynb/TwiZlatan.ipynb#X26sZmlsZQ%3D%3D?line=7'>8</a>\u001b[0m access_token_secret \u001b[39m=\u001b[39m config[\u001b[39m'\u001b[39m\u001b[39mtwitter\u001b[39m\u001b[39m'\u001b[39m][\u001b[39m'\u001b[39m\u001b[39maccess_token_secret\u001b[39m\u001b[39m'\u001b[39m]\n",
      "File \u001b[1;32mc:\\Users\\fbindi\\Anaconda3\\lib\\configparser.py:1255\u001b[0m, in \u001b[0;36mSectionProxy.__getitem__\u001b[1;34m(self, key)\u001b[0m\n\u001b[0;32m   1253\u001b[0m \u001b[39mif\u001b[39;00m \u001b[39mnot\u001b[39;00m \u001b[39mself\u001b[39m\u001b[39m.\u001b[39m_parser\u001b[39m.\u001b[39mhas_option(\u001b[39mself\u001b[39m\u001b[39m.\u001b[39m_name, key):\n\u001b[0;32m   1254\u001b[0m     \u001b[39mraise\u001b[39;00m \u001b[39mKeyError\u001b[39;00m(key)\n\u001b[1;32m-> 1255\u001b[0m \u001b[39mreturn\u001b[39;00m \u001b[39mself\u001b[39;49m\u001b[39m.\u001b[39;49m_parser\u001b[39m.\u001b[39;49mget(\u001b[39mself\u001b[39;49m\u001b[39m.\u001b[39;49m_name, key)\n",
      "File \u001b[1;32mc:\\Users\\fbindi\\Anaconda3\\lib\\configparser.py:799\u001b[0m, in \u001b[0;36mRawConfigParser.get\u001b[1;34m(self, section, option, raw, vars, fallback)\u001b[0m\n\u001b[0;32m    797\u001b[0m     \u001b[39mreturn\u001b[39;00m value\n\u001b[0;32m    798\u001b[0m \u001b[39melse\u001b[39;00m:\n\u001b[1;32m--> 799\u001b[0m     \u001b[39mreturn\u001b[39;00m \u001b[39mself\u001b[39;49m\u001b[39m.\u001b[39;49m_interpolation\u001b[39m.\u001b[39;49mbefore_get(\u001b[39mself\u001b[39;49m, section, option, value,\n\u001b[0;32m    800\u001b[0m                                           d)\n",
      "File \u001b[1;32mc:\\Users\\fbindi\\Anaconda3\\lib\\configparser.py:395\u001b[0m, in \u001b[0;36mBasicInterpolation.before_get\u001b[1;34m(self, parser, section, option, value, defaults)\u001b[0m\n\u001b[0;32m    393\u001b[0m \u001b[39mdef\u001b[39;00m \u001b[39mbefore_get\u001b[39m(\u001b[39mself\u001b[39m, parser, section, option, value, defaults):\n\u001b[0;32m    394\u001b[0m     L \u001b[39m=\u001b[39m []\n\u001b[1;32m--> 395\u001b[0m     \u001b[39mself\u001b[39;49m\u001b[39m.\u001b[39;49m_interpolate_some(parser, option, L, value, section, defaults, \u001b[39m1\u001b[39;49m)\n\u001b[0;32m    396\u001b[0m     \u001b[39mreturn\u001b[39;00m \u001b[39m'\u001b[39m\u001b[39m'\u001b[39m\u001b[39m.\u001b[39mjoin(L)\n",
      "File \u001b[1;32mc:\\Users\\fbindi\\Anaconda3\\lib\\configparser.py:442\u001b[0m, in \u001b[0;36mBasicInterpolation._interpolate_some\u001b[1;34m(self, parser, option, accum, rest, section, map, depth)\u001b[0m\n\u001b[0;32m    440\u001b[0m         accum\u001b[39m.\u001b[39mappend(v)\n\u001b[0;32m    441\u001b[0m \u001b[39melse\u001b[39;00m:\n\u001b[1;32m--> 442\u001b[0m     \u001b[39mraise\u001b[39;00m InterpolationSyntaxError(\n\u001b[0;32m    443\u001b[0m         option, section,\n\u001b[0;32m    444\u001b[0m         \u001b[39m\"\u001b[39m\u001b[39m'\u001b[39m\u001b[39m%%\u001b[39;00m\u001b[39m'\u001b[39m\u001b[39m must be followed by \u001b[39m\u001b[39m'\u001b[39m\u001b[39m%%\u001b[39;00m\u001b[39m'\u001b[39m\u001b[39m or \u001b[39m\u001b[39m'\u001b[39m\u001b[39m(\u001b[39m\u001b[39m'\u001b[39m\u001b[39m, \u001b[39m\u001b[39m\"\u001b[39m\n\u001b[0;32m    445\u001b[0m         \u001b[39m\"\u001b[39m\u001b[39mfound: \u001b[39m\u001b[39m%r\u001b[39;00m\u001b[39m\"\u001b[39m \u001b[39m%\u001b[39m (rest,))\n",
      "\u001b[1;31mInterpolationSyntaxError\u001b[0m: '%' must be followed by '%' or '(', found: \"%2BkgEAAAAAi2ngpFCjWXUUVonIHqc%2FmUL22%2Fc%3DBP578x5xbmYX27nSjTFanlfqYxTGedOdtPeCd0YS61LLo18Y0a'\""
     ]
    }
   ],
   "source": [
    "config = configparser.ConfigParser()\n",
    "config.read(r'H:\\config.ini')\n",
    "\n",
    "api_key = config['twitter']['api_key']\n",
    "api_key_secret = config['twitter']['api_key_secret']\n",
    "bearer_token = config['twitter']['bearer_token']\n",
    "access_token = config['twitter']['access_token']\n",
    "access_token_secret = config['twitter']['access_token_secret']"
   ]
  },
  {
   "attachments": {},
   "cell_type": "markdown",
   "metadata": {},
   "source": [
    "### 1. Grabbing some tweets with Twython"
   ]
  },
  {
   "attachments": {},
   "cell_type": "markdown",
   "metadata": {},
   "source": [
    "We create a connection and perform the search:"
   ]
  },
  {
   "cell_type": "code",
   "execution_count": 5,
   "metadata": {},
   "outputs": [],
   "source": [
    "connection = Twython(\n",
    "    api_key,\n",
    "    api_key_secret\n",
    ")"
   ]
  },
  {
   "cell_type": "code",
   "execution_count": 6,
   "metadata": {},
   "outputs": [],
   "source": [
    "results = connection.search(q='#zlatan',count=10)"
   ]
  },
  {
   "attachments": {},
   "cell_type": "markdown",
   "metadata": {},
   "source": [
    "`reults` is a dictionary of dictionaries. The actual tweets are stored under the key `'statuses'`, which yields another dictionary; the key `'text'` gives the text of the tweets."
   ]
  },
  {
   "cell_type": "code",
   "execution_count": 7,
   "metadata": {},
   "outputs": [
    {
     "name": "stdout",
     "output_type": "stream",
     "text": [
      "\n",
      "\n",
      "Tweet1\n",
      "RT @vez_MUFC: Not a United post, but had to share this. Loved this guy when he played for us. He was and is still deadly in front goal #Gla…\n",
      "\n",
      "\n",
      "Tweet2\n",
      "RT @vez_MUFC: Not a United post, but had to share this. Loved this guy when he played for us. He was and is still deadly in front goal #Gla…\n",
      "\n",
      "\n",
      "Tweet3\n",
      "⚽🇮🇹|Nouveau Maillot kid Milan Third 22/23\n",
      "Au prix incroyable de 13€\n",
      "➡https://t.co/kOJdY7ESY1\n",
      "\n",
      "#Zlatan https://t.co/oCZwKLPw7B\n",
      "\n",
      "\n",
      "Tweet4\n",
      "RT @vez_MUFC: Not a United post, but had to share this. Loved this guy when he played for us. He was and is still deadly in front goal #Gla…\n",
      "\n",
      "\n",
      "Tweet5\n",
      "After FIFA WORLD FINAL, getting curious to know more players in football 💙\n",
      "#Zlatan #pogba #FIFAWorldCup2022\n",
      "\n",
      "\n",
      "Tweet6\n",
      "GQ top five and men them never came with a stylist @Zlatan_Ibile @rahman_jago_ #Zlatan #jago\n",
      "\n",
      "PhotoG📸📸: @dc_heffect https://t.co/7TCFLPAkVR\n",
      "\n",
      "\n",
      "Tweet7\n",
      "#Foot #Mbappe #433 #Fcb #Ucl #Ronaldo #Cristiano #Football #Soccer #Footy #Barcelonafc #Teamfkskills #zlatan… https://t.co/eibEmimwjE\n",
      "\n",
      "\n",
      "Tweet8\n",
      "#Zlatan is taller than an NBA star ⭐️\n",
      "\n",
      "\n",
      "Tweet9\n",
      "RT @TinaTor5: Varsågod - alla ni Zlatanister - här har vi en selfmade man med hjärta! Tack Patrik Arnesson för att du inte är en fullblodse…\n",
      "\n",
      "\n",
      "Tweet10\n",
      "Varsågod - alla ni Zlatanister - här har vi en selfmade man med hjärta! Tack Patrik Arnesson för att du inte är en… https://t.co/fRMbGv093I\n"
     ]
    }
   ],
   "source": [
    "for i,tweet in enumerate(results['statuses']):\n",
    "    print('\\n')\n",
    "    print(f'Tweet{i+1}')\n",
    "    print(tweet['text'])"
   ]
  },
  {
   "attachments": {},
   "cell_type": "markdown",
   "metadata": {},
   "source": [
    "### Get the tweets of the man himself with Tweepy"
   ]
  },
  {
   "attachments": {},
   "cell_type": "markdown",
   "metadata": {},
   "source": [
    "Let's authenticate:"
   ]
  },
  {
   "cell_type": "code",
   "execution_count": 19,
   "metadata": {},
   "outputs": [
    {
     "ename": "NameError",
     "evalue": "name 'bearer_token' is not defined",
     "output_type": "error",
     "traceback": [
      "\u001b[1;31m---------------------------------------------------------------------------\u001b[0m",
      "\u001b[1;31mNameError\u001b[0m                                 Traceback (most recent call last)",
      "\u001b[1;32mh:\\Data science\\Git\\Python-Book-Club\\ipynb\\TwiZlatan.ipynb Cell 18\u001b[0m in \u001b[0;36m<cell line: 1>\u001b[1;34m()\u001b[0m\n\u001b[1;32m----> <a href='vscode-notebook-cell:/h%3A/Data%20science/Git/Python-Book-Club/ipynb/TwiZlatan.ipynb#X22sZmlsZQ%3D%3D?line=0'>1</a>\u001b[0m client \u001b[39m=\u001b[39m tweepy\u001b[39m.\u001b[39mClient(bearer_token\u001b[39m=\u001b[39mbearer_token)\n",
      "\u001b[1;31mNameError\u001b[0m: name 'bearer_token' is not defined"
     ]
    }
   ],
   "source": [
    "client = tweepy.Client(bearer_token=bearer_token) #1.0 write and read, 2.0 read only"
   ]
  },
  {
   "cell_type": "code",
   "execution_count": 17,
   "metadata": {},
   "outputs": [],
   "source": [
    "account = 'Ibra_official'"
   ]
  },
  {
   "cell_type": "code",
   "execution_count": 18,
   "metadata": {},
   "outputs": [
    {
     "ename": "AttributeError",
     "evalue": "'Client' object has no attribute 'user_timeline'",
     "output_type": "error",
     "traceback": [
      "\u001b[1;31m---------------------------------------------------------------------------\u001b[0m",
      "\u001b[1;31mAttributeError\u001b[0m                            Traceback (most recent call last)",
      "\u001b[1;32mh:\\Data science\\Git\\Python-Book-Club\\ipynb\\TwiZlatan.ipynb Cell 20\u001b[0m in \u001b[0;36m<cell line: 1>\u001b[1;34m()\u001b[0m\n\u001b[1;32m----> <a href='vscode-notebook-cell:/h%3A/Data%20science/Git/Python-Book-Club/ipynb/TwiZlatan.ipynb#X35sZmlsZQ%3D%3D?line=0'>1</a>\u001b[0m tweets \u001b[39m=\u001b[39m api\u001b[39m.\u001b[39;49muser_timeline(screen_name\u001b[39m=\u001b[39maccount, count\u001b[39m=\u001b[39m\u001b[39m1000\u001b[39m)\n",
      "\u001b[1;31mAttributeError\u001b[0m: 'Client' object has no attribute 'user_timeline'"
     ]
    }
   ],
   "source": [
    "tweets = api.user_timeline(screen_name=account, count=1000)"
   ]
  },
  {
   "attachments": {},
   "cell_type": "markdown",
   "metadata": {},
   "source": [
    "twint\n",
    "snscrape"
   ]
  },
  {
   "attachments": {},
   "cell_type": "markdown",
   "metadata": {},
   "source": [
    "We want to grab all tweets about Zlatan since the inception of Twitter (maybe [this repo](https://github.com/Jefferson-Henrique/GetOldTweets-python) can help)."
   ]
  },
  {
   "attachments": {},
   "cell_type": "markdown",
   "metadata": {},
   "source": [
    "### References"
   ]
  },
  {
   "cell_type": "markdown",
   "metadata": {},
   "source": []
  }
 ],
 "metadata": {
  "kernelspec": {
   "display_name": "base",
   "language": "python",
   "name": "python3"
  },
  "language_info": {
   "codemirror_mode": {
    "name": "ipython",
    "version": 3
   },
   "file_extension": ".py",
   "mimetype": "text/x-python",
   "name": "python",
   "nbconvert_exporter": "python",
   "pygments_lexer": "ipython3",
   "version": "3.8.8"
  },
  "orig_nbformat": 4,
  "vscode": {
   "interpreter": {
    "hash": "1f329fe999473641a28ed581aaa14f6084033808b8de4df1f66a411be4e58aae"
   }
  }
 },
 "nbformat": 4,
 "nbformat_minor": 2
}
